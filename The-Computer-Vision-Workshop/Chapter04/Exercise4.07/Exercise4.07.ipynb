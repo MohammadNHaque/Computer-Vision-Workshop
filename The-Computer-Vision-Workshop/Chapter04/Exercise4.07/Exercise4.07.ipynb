{
 "cells": [
  {
   "cell_type": "code",
   "execution_count": 7,
   "metadata": {},
   "outputs": [],
   "source": [
    "import cv2 \n",
    "\n",
    "image = cv2.imread('many fruits.png') \n",
    "imagecopy= image.copy()\n",
    "cv2.imshow( 'Original image' , image )\n",
    "cv2.waitKey(0) \n",
    "cv2.destroyAllWindows()\n",
    "\n",
    "gray_image = cv2.cvtColor(image,cv2.COLOR_BGR2GRAY) \n",
    "cv2.imshow( 'gray' , gray_image )\n",
    "cv2.waitKey(0) \n",
    "cv2.destroyAllWindows()\n",
    "\n",
    "ret,binary_im = cv2.threshold(gray_image,245,255,cv2.THRESH_BINARY) \n",
    "cv2.imshow( 'binary' , binary_im )\n",
    "cv2.waitKey(0) \n",
    "cv2.destroyAllWindows()\n",
    "\n",
    "binary_im= ~binary_im\n",
    "cv2.imshow( 'inverted binary' , binary_im )\n",
    "cv2.waitKey(0) \n",
    "cv2.destroyAllWindows()"
   ]
  },
  {
   "cell_type": "code",
   "execution_count": 8,
   "metadata": {},
   "outputs": [],
   "source": [
    "#find the external contours from binary image\n",
    "contours,hierarchy = cv2.findContours(binary_im,cv2.RETR_EXTERNAL,cv2.CHAIN_APPROX_SIMPLE) \n",
    "\n",
    "with_contours = cv2.drawContours(image,contours,-1,(0,0,255),3) \n",
    "cv2.imshow( 'contours marked on RGB image' , with_contours )\n",
    "cv2.waitKey(0) \n",
    "cv2.destroyAllWindows()"
   ]
  },
  {
   "cell_type": "code",
   "execution_count": 9,
   "metadata": {},
   "outputs": [],
   "source": [
    "ref_image = cv2.imread('bananaref.png') \n",
    "cv2.imshow( 'Reference image' , ref_image )\n",
    "cv2.waitKey(0) \n",
    "cv2.destroyAllWindows() \n",
    "\n",
    "gray_image = cv2.cvtColor(ref_image,cv2.COLOR_BGR2GRAY) \n",
    "cv2.imshow( 'Grayscale image' , gray_image )\n",
    "cv2.waitKey(0) \n",
    "cv2.destroyAllWindows() \n",
    "\n",
    "ret,binary_im = cv2.threshold(gray_image,245,255,cv2.THRESH_BINARY) \n",
    "cv2.imshow( 'Binary image' , binary_im )\n",
    "cv2.waitKey(0) \n",
    "cv2.destroyAllWindows() \n",
    "\n",
    "binary_im= ~binary_im\n",
    "cv2.imshow( 'inverted binary image' , binary_im )\n",
    "cv2.waitKey(0) \n",
    "cv2.destroyAllWindows() "
   ]
  },
  {
   "cell_type": "code",
   "execution_count": 10,
   "metadata": {},
   "outputs": [
    {
     "name": "stdout",
     "output_type": "stream",
     "text": [
      "Total number of contours:\n",
      "1\n"
     ]
    }
   ],
   "source": [
    "ref_contour_list,hierarchy = cv2.findContours(binary_im,cv2.RETR_EXTERNAL,cv2.CHAIN_APPROX_SIMPLE) \n",
    "with_contours = cv2.drawContours(ref_image,ref_contour_list,-1,(0,0,255),3) \n",
    "\n",
    "cv2.imshow( 'contours marked on RGB image' , with_contours )\n",
    "cv2.waitKey(0) \n",
    "cv2.destroyAllWindows()  \n",
    "\n",
    "print('Total number of contours:')\n",
    "print(len(ref_contour_list))\n",
    "reference_contour = ref_contour_list[0]"
   ]
  },
  {
   "cell_type": "code",
   "execution_count": 11,
   "metadata": {},
   "outputs": [],
   "source": [
    "dist_list= []\n",
    "for cnt in contours:\n",
    "    retval= cv2.matchShapes(cnt, reference_contour,1,0)\n",
    "    dist_list.append(retval)\n",
    "\n",
    "sorted_list= dist_list.copy()\n",
    "sorted_list.sort() # sorts the list from smallest to largest \n",
    "ind1_dist= dist_list.index(sorted_list[0])\n",
    "ind2_dist= dist_list.index(sorted_list[1])\n",
    "\n",
    "banana_cnts= []\n",
    "banana_cnts.append(contours[ind1_dist])\n",
    "banana_cnts.append(contours[ind2_dist])"
   ]
  },
  {
   "cell_type": "code",
   "execution_count": 12,
   "metadata": {},
   "outputs": [],
   "source": [
    "with_contours = cv2.drawContours(image,banana_cnts,-1,(255,0,0),3) \n",
    "cv2.imshow( 'contours marked on RGB image' , with_contours )\n",
    "cv2.waitKey(0) \n",
    "cv2.destroyAllWindows()"
   ]
  }
 ],
 "metadata": {
  "kernelspec": {
   "display_name": "Python 3",
   "language": "python",
   "name": "python3"
  },
  "language_info": {
   "codemirror_mode": {
    "name": "ipython",
    "version": 3
   },
   "file_extension": ".py",
   "mimetype": "text/x-python",
   "name": "python",
   "nbconvert_exporter": "python",
   "pygments_lexer": "ipython3",
   "version": "3.7.7"
  }
 },
 "nbformat": 4,
 "nbformat_minor": 2
}
