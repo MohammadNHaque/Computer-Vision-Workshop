{
 "cells": [
  {
   "cell_type": "code",
   "execution_count": 4,
   "metadata": {},
   "outputs": [],
   "source": [
    "import cv2 \n",
    "\n",
    "image_3chan = cv2.imread('nut_bolt.png') \n",
    "image_3chan_copy= image_3chan.copy()\n",
    "cv2.imshow( 'Original image' , image_3chan )\n",
    "cv2.waitKey(0) \n",
    "cv2.destroyAllWindows()"
   ]
  },
  {
   "cell_type": "code",
   "execution_count": 5,
   "metadata": {},
   "outputs": [],
   "source": [
    "gray_image = cv2.cvtColor(image_3chan,cv2.COLOR_BGR2GRAY) \n",
    "ret,binary_im = cv2.threshold(gray_image,250,255,cv2.THRESH_BINARY) \n",
    "cv2.imshow( 'binary image' , binary_im )\n",
    "cv2.waitKey(0) \n",
    "cv2.destroyAllWindows()"
   ]
  },
  {
   "cell_type": "code",
   "execution_count": 6,
   "metadata": {},
   "outputs": [
    {
     "name": "stdout",
     "output_type": "stream",
     "text": [
      "Hierarchy information of all contours:\n",
      "[[[ 1 -1 -1 -1]\n",
      "  [-1  0  2 -1]\n",
      "  [-1 -1 -1  1]]]\n"
     ]
    }
   ],
   "source": [
    "contours_list,hierarchy = cv2.findContours(binary_im,cv2.RETR_TREE,cv2.CHAIN_APPROX_SIMPLE) \n",
    "print('Hierarchy information of all contours:')\n",
    "print (hierarchy)"
   ]
  },
  {
   "cell_type": "code",
   "execution_count": 7,
   "metadata": {},
   "outputs": [
    {
     "name": "stdout",
     "output_type": "stream",
     "text": [
      "Hierarchy information of current contour:\n",
      "[ 1 -1 -1 -1]\n",
      "Bolt contour is detected\n",
      "Hierarchy information of current contour:\n",
      "[-1  0  2 -1]\n",
      "Hierarchy information of current contour:\n",
      "[-1 -1 -1  1]\n",
      "Hole of nut is detected\n"
     ]
    }
   ],
   "source": [
    "for i in range(0, len(contours_list)):\n",
    "    contour_info= hierarchy[0][i, :]\n",
    "    print('Hierarchy information of current contour:')\n",
    "    print(contour_info)\n",
    "    if contour_info[2]==-1 and contour_info[3]==-1: # no parent, no child\n",
    "        with_contours = cv2.drawContours(image_3chan_copy,contours_list,i,[0,255,0],thickness=3)\n",
    "        print('Bolt contour is detected')\n",
    "    if contour_info[2]==-1 and contour_info[3]!=-1: # no child but parent is present\n",
    "        with_contours = cv2.drawContours(with_contours,contours_list,i, [0,0,255],thickness=3)\n",
    "        print('Hole of nut is detected')\n",
    "    "
   ]
  },
  {
   "cell_type": "code",
   "execution_count": 8,
   "metadata": {},
   "outputs": [],
   "source": [
    "cv2.imshow( 'Contours marked on RGB image' , with_contours )\n",
    "cv2.waitKey(0) \n",
    "cv2.destroyAllWindows()"
   ]
  }
 ],
 "metadata": {
  "kernelspec": {
   "display_name": "Python 3",
   "language": "python",
   "name": "python3"
  },
  "language_info": {
   "codemirror_mode": {
    "name": "ipython",
    "version": 3
   },
   "file_extension": ".py",
   "mimetype": "text/x-python",
   "name": "python",
   "nbconvert_exporter": "python",
   "pygments_lexer": "ipython3",
   "version": "3.7.7"
  }
 },
 "nbformat": 4,
 "nbformat_minor": 2
}
